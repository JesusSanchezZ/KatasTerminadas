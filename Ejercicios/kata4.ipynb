{
 "cells": [
  {
   "cell_type": "markdown",
   "metadata": {},
   "source": [
    "# Ejercicio 1: Transformar cadenas."
   ]
  },
  {
   "cell_type": "code",
   "execution_count": 1,
   "metadata": {},
   "outputs": [],
   "source": [
    "text = \"\"\"Interesting facts about the Moon. The Moon is Earth's only satellite. There are several interesting facts about the Moon and how it affects life here on Earth. \\n\",\n",
    "     On average, the Moon moves 4cm away from the Earth every year. This yearly drift is not significant enough to cause immediate effects on Earth. The highest daylight temperature of the Moon is 127 C.\"\"\""
   ]
  },
  {
   "cell_type": "markdown",
   "metadata": {},
   "source": [
    "# Dividimos el texto"
   ]
  },
  {
   "cell_type": "code",
   "execution_count": 28,
   "metadata": {},
   "outputs": [
    {
     "name": "stdout",
     "output_type": "stream",
     "text": [
      "['Interesting', 'facts', 'about', 'the', 'Moon.', 'The', 'Moon', 'is', \"Earth's\", 'only', 'satellite.', 'There', 'are', 'several', 'interesting', 'facts', 'about', 'the', 'Moon', 'and', 'how', 'it', 'affects', 'life', 'here', 'on', 'Earth.', '\",', 'On', 'average,', 'the', 'Moon', 'moves', '4cm', 'away', 'from', 'the', 'Earth', 'every', 'year.', 'This', 'yearly', 'drift', 'is', 'not', 'significant', 'enough', 'to', 'cause', 'immediate', 'effects', 'on', 'Earth.', 'The', 'highest', 'daylight', 'temperature', 'of', 'the', 'Moon', 'is', '127', 'C.']\n"
     ]
    }
   ],
   "source": [
    "textDiv = text.split();\n",
    "print(textDiv)"
   ]
  },
  {
   "cell_type": "markdown",
   "metadata": {},
   "source": [
    "# Definición de palabras clave"
   ]
  },
  {
   "cell_type": "code",
   "execution_count": 5,
   "metadata": {},
   "outputs": [
    {
     "name": "stdout",
     "output_type": "stream",
     "text": [
      "['average', 'temperature', 'distance']\n"
     ]
    }
   ],
   "source": [
    "clave = ['average', 'temperature','distance']\n",
    "print(clave)"
   ]
  },
  {
   "cell_type": "markdown",
   "metadata": {},
   "source": [
    "# Datos sobre la Luna relacionados con las palabra clave"
   ]
  },
  {
   "cell_type": "code",
   "execution_count": 11,
   "metadata": {},
   "outputs": [
    {
     "name": "stdout",
     "output_type": "stream",
     "text": [
      "Average,\n",
      "Temperature\n"
     ]
    }
   ],
   "source": [
    "for dato in textDiv:\n",
    "    for datoClave in clave:\n",
    "        if dato.find(datoClave) != -1:\n",
    "            print(dato.title())\n",
    "    "
   ]
  },
  {
   "cell_type": "markdown",
   "metadata": {},
   "source": [
    "# Cambiamos C a Celsius"
   ]
  },
  {
   "cell_type": "code",
   "execution_count": 34,
   "metadata": {},
   "outputs": [
    {
     "name": "stdout",
     "output_type": "stream",
     "text": [
      "['Interesting', 'Facts', 'About', 'The', 'Moon.', 'The', 'Moon', 'Is', \"Earth'S\", 'Only', 'Satellite.', 'There', 'Are', 'Several', 'Interesting', 'Facts', 'About', 'The', 'Moon', 'And', 'How', 'It', 'Affects', 'Life', 'Here', 'On', 'Earth.', '\",', 'On', 'Average,', 'The', 'Moon', 'Moves', '4Cm', 'Away', 'From', 'The', 'Earth', 'Every', 'Year.', 'This', 'Yearly', 'Drift', 'Is', 'Not', 'Significant', 'Enough', 'To', 'Cause', 'Immediate', 'Effects', 'On', 'Earth.', 'The', 'Highest', 'Daylight', 'Temperature', 'Of', 'The', 'Moon', 'Is', '127', 'Celsius']\n"
     ]
    }
   ],
   "source": [
    "textDivC = []\n",
    "for dato in textDiv:\n",
    "    if dato.find('C.') != -1:\n",
    "       textDivC.append(dato.replace('C.','Celsius'))\n",
    "    else:\n",
    "        textDivC.append(dato.title())\n",
    "print(textDivC)\n"
   ]
  },
  {
   "cell_type": "markdown",
   "metadata": {},
   "source": [
    "# Ejercicio 2: Formateando Cadenas"
   ]
  },
  {
   "cell_type": "code",
   "execution_count": 37,
   "metadata": {},
   "outputs": [
    {
     "name": "stdout",
     "output_type": "stream",
     "text": [
      "Gravity Facts about Moon\n",
      "---------------------------------------------\n",
      "\n",
      "              Planet Name: Earth\n",
      "\n",
      "              Gravity on Moon: 1.6199999999999999 m/s2\n",
      "\n"
     ]
    }
   ],
   "source": [
    "# Datos a trabajar\n",
    "name = \"Moon\"\n",
    "gravity = 0.00162 # in kms\n",
    "planet = \"Earth\"\n",
    "\n",
    "# Creamos el título\n",
    "title = \"Gravity Facts about \" + name + \"\\n\"\n",
    "\n",
    "# Creamos la plantilla\n",
    "template = \"\"\"---------------------------------------------\\n\n",
    "              Planet Name: \"\"\" + planet + \"\"\"\\n\n",
    "              Gravity on \"\"\"+ name + \": \" + str(gravity * 1000) + \" m/s2\\n\"\n",
    "\n",
    "# Unión de ambas cadenas\n",
    "gravedadPlantilla = title + template\n",
    "\n",
    "print(gravedadPlantilla)\n",
    "    "
   ]
  },
  {
   "cell_type": "markdown",
   "metadata": {},
   "source": [
    "# Datos muestra"
   ]
  },
  {
   "cell_type": "code",
   "execution_count": 39,
   "metadata": {},
   "outputs": [
    {
     "name": "stdout",
     "output_type": "stream",
     "text": [
      "Gravity Facts about Moon\n",
      "---------------------------------------------\n",
      "\n",
      "              Planet Name: Earth\n",
      "\n",
      "              Gravity on Moon: 1.6199999999999999 m/s2\n",
      "\n"
     ]
    }
   ],
   "source": [
    "planet = 'Marte'\n",
    "gravity = 0.00143\n",
    "name = 'Ganímedes'\n",
    "\n",
    "print(gravedadPlantilla)"
   ]
  },
  {
   "cell_type": "markdown",
   "metadata": {},
   "source": [
    "# Nueva Plantilla"
   ]
  },
  {
   "cell_type": "code",
   "execution_count": 42,
   "metadata": {},
   "outputs": [
    {
     "name": "stdout",
     "output_type": "stream",
     "text": [
      "Hechos sobre la gravedad en Ganímedes\n",
      "---------------------------------------------\n",
      "\n",
      "              Nombre del planeta: Marte\n",
      "\n",
      "              Gravedad en Ganímedes: 1.4300000000000002 m/s2\n",
      "\n"
     ]
    }
   ],
   "source": [
    "title1 = \"Hechos sobre la gravedad en {0}\\n\"\n",
    "template1 = \"\"\"---------------------------------------------\\n\n",
    "              Nombre del planeta: {1}\\n\n",
    "              Gravedad en {0}: {2} m/s2\\n\"\"\"\n",
    "\n",
    "nuevaPlantilla = title1 + template1\n",
    "\n",
    "print(nuevaPlantilla.format(name,planet, (gravity * 1000)))\n"
   ]
  },
  {
   "cell_type": "code",
   "execution_count": 43,
   "metadata": {},
   "outputs": [
    {
     "name": "stdout",
     "output_type": "stream",
     "text": [
      "Hechos sobre la gravedad en Luna\n",
      "---------------------------------------------\n",
      "\n",
      "              Nombre del planeta: Tierra\n",
      "\n",
      "              Gravedad en Luna: 1.6199999999999999 m/s2\n",
      "\n"
     ]
    }
   ],
   "source": [
    "planet = 'Tierra'\n",
    "gravity = .00162\n",
    "name = 'Luna'\n",
    "\n",
    "print(nuevaPlantilla.format(name, planet, (gravity * 1000)))"
   ]
  }
 ],
 "metadata": {
  "interpreter": {
   "hash": "6dd261a6119dd15213834daadbcd51cc658e52f6776ca72d56aecd4cc56cc9af"
  },
  "kernelspec": {
   "display_name": "Python 3.10.2 64-bit",
   "language": "python",
   "name": "python3"
  },
  "language_info": {
   "codemirror_mode": {
    "name": "ipython",
    "version": 3
   },
   "file_extension": ".py",
   "mimetype": "text/x-python",
   "name": "python",
   "nbconvert_exporter": "python",
   "pygments_lexer": "ipython3",
   "version": "3.10.2"
  },
  "orig_nbformat": 4
 },
 "nbformat": 4,
 "nbformat_minor": 2
}
