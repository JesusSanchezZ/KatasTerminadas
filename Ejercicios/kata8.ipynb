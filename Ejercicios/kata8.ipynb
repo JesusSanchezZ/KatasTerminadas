{
 "cells": [
  {
   "cell_type": "markdown",
   "metadata": {},
   "source": [
    "## Ejercicio 1: Creación de diccionarios de Python\n",
    "Ejercicio: Crear y modificar un diccionario de Python"
   ]
  },
  {
   "cell_type": "code",
   "execution_count": 1,
   "metadata": {},
   "outputs": [],
   "source": [
    "# Crear diccionario llamado planet.\n",
    "planet = {\n",
    "    'name' : 'Mars',\n",
    "    'moons' : 2\n",
    "}\n"
   ]
  },
  {
   "cell_type": "code",
   "execution_count": 2,
   "metadata": {},
   "outputs": [
    {
     "name": "stdout",
     "output_type": "stream",
     "text": [
      "Planeta: Mars. \n",
      "Número de lunas: 2\n"
     ]
    }
   ],
   "source": [
    "# Mostrar el nombre del planeta y el número de lunas que tiene\n",
    "nombre = planet.get('name')\n",
    "lunas = planet['moons']\n",
    "print(f'Planeta: {nombre}. \\nNúmero de lunas: {lunas}')"
   ]
  },
  {
   "cell_type": "code",
   "execution_count": 3,
   "metadata": {},
   "outputs": [],
   "source": [
    "# Agrega la clave circunferencia.\n",
    "planet['circunferencia (km)'] = {\n",
    "    'polar': 6752,\n",
    "    'equatorial': 6792\n",
    "}"
   ]
  },
  {
   "cell_type": "code",
   "execution_count": 4,
   "metadata": {},
   "outputs": [
    {
     "name": "stdout",
     "output_type": "stream",
     "text": [
      "Planeta: Mars\n",
      "Circunferencia polar: 6752 km\n"
     ]
    }
   ],
   "source": [
    "# Escribe el nombre del planeta con su circunferencia polar.\n",
    "nomb = planet['name'] \n",
    "polar = planet['circunferencia (km)']['polar']\n",
    "print(f'Planeta: {nomb}\\nCircunferencia polar: {polar} km')"
   ]
  },
  {
   "cell_type": "markdown",
   "metadata": {},
   "source": [
    "## Ejercicio 2: Programación dinámica con diccionarios\n",
    "Ejercicio: Cálculo de valores"
   ]
  },
  {
   "cell_type": "code",
   "execution_count": 5,
   "metadata": {},
   "outputs": [],
   "source": [
    "# Planetas y lunas\n",
    "planet_moons = {\n",
    "    'mercurio': 0,\n",
    "    'venus': 0,\n",
    "    'tierra': 1,\n",
    "    'marte': 2,\n",
    "    'jupiter': 79,\n",
    "    'saturno': 82,\n",
    "    'urano': 27,\n",
    "    'neptuno': 14,\n",
    "    'plutón': 5,\n",
    "    'haumea': 2,\n",
    "    'makemake': 1,\n",
    "    'eris': 1\n",
    "}"
   ]
  },
  {
   "cell_type": "code",
   "execution_count": 10,
   "metadata": {},
   "outputs": [],
   "source": [
    "# Añadir código para determinar el número de lunas.\n",
    "moons = 0\n",
    "planets = 0\n",
    "\n",
    "for values in planet_moons.values():\n",
    "    moons += values\n",
    "    planets += 1\n"
   ]
  },
  {
   "cell_type": "code",
   "execution_count": 11,
   "metadata": {},
   "outputs": [
    {
     "name": "stdout",
     "output_type": "stream",
     "text": [
      "Número de planetas 12:\n",
      "Promedio de lunas: 17.833333333333332\n",
      "Total de lunas: 214\n"
     ]
    }
   ],
   "source": [
    "# Agregar el código para contar el número de lunas.\n",
    "prom = moons / planets\n",
    "\n",
    "print(f'Número de planetas {planets}:\\nPromedio de lunas: {prom}\\nTotal de lunas: {moons}')"
   ]
  }
 ],
 "metadata": {
  "interpreter": {
   "hash": "6dd261a6119dd15213834daadbcd51cc658e52f6776ca72d56aecd4cc56cc9af"
  },
  "kernelspec": {
   "display_name": "Python 3.10.2 64-bit",
   "language": "python",
   "name": "python3"
  },
  "language_info": {
   "codemirror_mode": {
    "name": "ipython",
    "version": 3
   },
   "file_extension": ".py",
   "mimetype": "text/x-python",
   "name": "python",
   "nbconvert_exporter": "python",
   "pygments_lexer": "ipython3",
   "version": "3.10.2"
  },
  "orig_nbformat": 4
 },
 "nbformat": 4,
 "nbformat_minor": 2
}
