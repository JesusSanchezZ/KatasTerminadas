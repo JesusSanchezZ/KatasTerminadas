{
 "cells": [
  {
   "cell_type": "markdown",
   "metadata": {},
   "source": [
    "## Ejercicio: Uso de funciones en Python\n",
    "Ejercicio 1: Trabajar con argumentos en funciones"
   ]
  },
  {
   "cell_type": "code",
   "execution_count": 3,
   "metadata": {},
   "outputs": [],
   "source": [
    "# Función para leer 3 tanques de combustible y muestre el promedio\n",
    "def informeCombustible(nivel1, nivel2, nivel3):\n",
    "    prom = (nivel1 + nivel2 + nivel3) / 3\n",
    "    reporte = f'El promedio de combustible es: {prom}'\n",
    "    return reporte\n"
   ]
  },
  {
   "cell_type": "code",
   "execution_count": 4,
   "metadata": {},
   "outputs": [
    {
     "name": "stdout",
     "output_type": "stream",
     "text": [
      "El promedio de combustible es: 35.0\n"
     ]
    }
   ],
   "source": [
    "# Llamamos a la función que genera el reporte\n",
    "print(informeCombustible(20,50,35))"
   ]
  },
  {
   "cell_type": "code",
   "execution_count": 9,
   "metadata": {},
   "outputs": [],
   "source": [
    "# Funcion promedio\n",
    "def promedio(*args):\n",
    "    prom = sum(args) / len(args)\n",
    "    return prom\n"
   ]
  },
  {
   "cell_type": "code",
   "execution_count": 10,
   "metadata": {},
   "outputs": [],
   "source": [
    "# Actualizamos la funcion\n",
    "def informeCombustible(nivel1, nivel2, nivel3):\n",
    "    prom = promedio(nivel1, nivel2, nivel3)\n",
    "    reporte = f'El promedio de combustible es: {prom}'\n",
    "    return reporte"
   ]
  },
  {
   "cell_type": "code",
   "execution_count": 12,
   "metadata": {},
   "outputs": [
    {
     "name": "stdout",
     "output_type": "stream",
     "text": [
      "El promedio de combustible es: 35.0\n"
     ]
    }
   ],
   "source": [
    "# LLamada a la funcion actualizada\n",
    "print(informeCombustible(20,50,35))"
   ]
  },
  {
   "cell_type": "markdown",
   "metadata": {},
   "source": [
    "## Ejercicio 2: Trabajo con argumentos de palabra clave\n",
    "Ejercicio: Trabajar con argumentos de palabras clave en funciones"
   ]
  },
  {
   "cell_type": "code",
   "execution_count": 14,
   "metadata": {},
   "outputs": [
    {
     "name": "stdout",
     "output_type": "stream",
     "text": [
      "Hora de lanzamiento: 19:45. Destino: Luna, tiempo estimado de vuelo: 51 Hrs.\n",
      "Combustible:\n",
      "Tanque interno: 80 lts.\n",
      "Tanque externo: 60 lts.\n"
     ]
    }
   ],
   "source": [
    "# Función con informe preciso de la misión. Considerar hora de lanzamiento, timepo de vuelo, destino, tanque externo y tanque interno\n",
    "from datetime import timedelta, datetime\n",
    "\n",
    "def informeMision(horaLanzamiento, tiempoVuelo, destino, tanqueExt, tanqueInt):\n",
    "    informe = f'Hora de lanzamiento: {horaLanzamiento}. Destino: {destino}, tiempo estimado de vuelo: {tiempoVuelo} Hrs.\\nCombustible:\\nTanque interno: {tanqueInt} lts.\\nTanque externo: {tanqueExt} lts.'\n",
    "    return informe\n",
    "\n",
    "print(informeMision('19:45',51,'Luna',60,80))"
   ]
  },
  {
   "cell_type": "code",
   "execution_count": 17,
   "metadata": {},
   "outputs": [
    {
     "name": "stdout",
     "output_type": "stream",
     "text": [
      "Tiempo de la misión: 190 min., combustible disponible: 140 lts.\n"
     ]
    }
   ],
   "source": [
    "# Función modificada\n",
    "def informeMision(*minutos, **tanques_combustible):\n",
    "    tiempoMision = sum(minutos)\n",
    "    combustibleDisponible = 0\n",
    "    for value in tanques_combustible.values():\n",
    "        combustibleDisponible += value\n",
    "    \n",
    "    return f'Tiempo de la misión: {tiempoMision} min., combustible disponible: {combustibleDisponible} lts.'\n",
    "\n",
    "print(informeMision(10,60,120,Tanque1=80,Tanque2=60))"
   ]
  },
  {
   "cell_type": "code",
   "execution_count": 19,
   "metadata": {},
   "outputs": [
    {
     "name": "stdout",
     "output_type": "stream",
     "text": [
      "Tiempo de la misión: 1.6666666666666667 hrs. Combustible total disponible: 145 lts.: \n",
      "Tanque1: 30 lts.\n",
      "Tanque2: 35 lts.\n",
      "Tanque3: 80 lts.\n",
      "\n"
     ]
    }
   ],
   "source": [
    "# Función modificada\n",
    "def informeMision(*minutos, **tanques_combustible):\n",
    "    reporte = ''\n",
    "    combustibleDispo = 0\n",
    "    tiempoMision = sum(minutos)\n",
    "    if tiempoMision < 60:\n",
    "        reporte = f'Tiempo de la misión: {tiempoMision} min. '\n",
    "    else:\n",
    "        reporte = f'Tiempo de la misión: {(tiempoMision / 60)} hrs. '\n",
    "    \n",
    "    for value in tanques_combustible.values():\n",
    "        combustibleDispo += value\n",
    "    reporte += f'Combustible total disponible: {combustibleDispo} lts.: \\n'\n",
    "\n",
    "    for tanque, value in tanques_combustible.items():\n",
    "        reporte += f'{tanque}: {value} lts.\\n'\n",
    "    \n",
    "    return reporte\n",
    "\n",
    "print(informeMision(20,30,50,Tanque1=30, Tanque2=35, Tanque3=80))"
   ]
  }
 ],
 "metadata": {
  "interpreter": {
   "hash": "6dd261a6119dd15213834daadbcd51cc658e52f6776ca72d56aecd4cc56cc9af"
  },
  "kernelspec": {
   "display_name": "Python 3.10.2 64-bit",
   "language": "python",
   "name": "python3"
  },
  "language_info": {
   "codemirror_mode": {
    "name": "ipython",
    "version": 3
   },
   "file_extension": ".py",
   "mimetype": "text/x-python",
   "name": "python",
   "nbconvert_exporter": "python",
   "pygments_lexer": "ipython3",
   "version": "3.10.2"
  },
  "orig_nbformat": 4
 },
 "nbformat": 4,
 "nbformat_minor": 2
}
