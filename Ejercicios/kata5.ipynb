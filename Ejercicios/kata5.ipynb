{
 "cells": [
  {
   "cell_type": "markdown",
   "metadata": {},
   "source": [
    "# Ejercicio 1: Utilizar operadores aritméticos"
   ]
  },
  {
   "cell_type": "code",
   "execution_count": 3,
   "metadata": {},
   "outputs": [
    {
     "name": "stdout",
     "output_type": "stream",
     "text": [
      "Distancia entre planetas:\n",
      "\t628949330 Km\n",
      "\t390577533.93 millas\n"
     ]
    }
   ],
   "source": [
    "# Crear variables para almacenar las dos distancias\n",
    "tierra = 149597870    # Km\n",
    "jupiter = 778547200 \n",
    "\n",
    "# Calcular la distancia entre planetas\n",
    "distancia = jupiter - tierra\n",
    "\n",
    "print(\"Distancia entre planetas:\\n\\t{0} Km\\n\\t{1} millas\".format(distancia, (distancia * 0.621)))"
   ]
  },
  {
   "cell_type": "markdown",
   "metadata": {},
   "source": [
    "# Ejercicio 2: Convertir cadenas en números y usa valores absolutos"
   ]
  },
  {
   "cell_type": "code",
   "execution_count": 5,
   "metadata": {},
   "outputs": [
    {
     "name": "stdout",
     "output_type": "stream",
     "text": [
      "La distancia entre los planetas es:\n",
      "\t 50300000 km\n",
      "\t31236300.0 millas\n"
     ]
    }
   ],
   "source": [
    "# Almacenar las entradas del usuario\n",
    "planeta1 = input(\"Introduce la distancia del primer planeta: \")\n",
    "planeta2 = input(\"Introduce la distancia del segundo planeta: \")\n",
    "\n",
    "# Convertimos las cadenas de ambos planetas a números enteros.\n",
    "\n",
    "dis1 = int(planeta1)\n",
    "dis2 = int(planeta2)\n",
    "\n",
    "# Calcular la distancia y su valor absoluto\n",
    "distPlanetas = abs(dis1 - dis2)\n",
    "\n",
    "# Conversion de km a millas\n",
    "distMillas = distPlanetas * 0.621\n",
    "\n",
    "print(\"La distancia entre los planetas es:\\n\\t {0} km\\n\\t{1} millas\".format(distPlanetas, distMillas))"
   ]
  }
 ],
 "metadata": {
  "interpreter": {
   "hash": "6dd261a6119dd15213834daadbcd51cc658e52f6776ca72d56aecd4cc56cc9af"
  },
  "kernelspec": {
   "display_name": "Python 3.10.2 64-bit",
   "language": "python",
   "name": "python3"
  },
  "language_info": {
   "codemirror_mode": {
    "name": "ipython",
    "version": 3
   },
   "file_extension": ".py",
   "mimetype": "text/x-python",
   "name": "python",
   "nbconvert_exporter": "python",
   "pygments_lexer": "ipython3",
   "version": "3.10.2"
  },
  "orig_nbformat": 4
 },
 "nbformat": 4,
 "nbformat_minor": 2
}
