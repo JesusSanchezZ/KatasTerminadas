{
 "cells": [
  {
   "cell_type": "markdown",
   "metadata": {},
   "source": [
    "# Ejercicios. Velocidad de asteroides."
   ]
  },
  {
   "cell_type": "code",
   "execution_count": 1,
   "metadata": {},
   "outputs": [
    {
     "name": "stdout",
     "output_type": "stream",
     "text": [
      "¡La velocidad del asteroide es alta!...\n"
     ]
    }
   ],
   "source": [
    "# Velocidad del asteroide\n",
    "velAster = 49\n",
    "\n",
    "# Expresion para advertencia\n",
    "if velAster > 25:\n",
    "    print(\"¡La velocidad del asteroide es alta!...\")"
   ]
  },
  {
   "cell_type": "markdown",
   "metadata": {},
   "source": [
    "# Alertar a las personas que miren al cielo\n"
   ]
  },
  {
   "cell_type": "code",
   "execution_count": 2,
   "metadata": {},
   "outputs": [
    {
     "name": "stdout",
     "output_type": "stream",
     "text": [
      "No mires al cielo...\n"
     ]
    }
   ],
   "source": [
    "# Velocidad del asteroide\n",
    "velAsteroide = 19\n",
    "if velAsteroide >= 20:\n",
    "    print('¡!Busca el asteroide en el cielo¡¡')\n",
    "else:\n",
    "    print('No mires al cielo...')"
   ]
  },
  {
   "cell_type": "markdown",
   "metadata": {},
   "source": [
    "# Velocidad y tamaño de los asteroides"
   ]
  },
  {
   "cell_type": "code",
   "execution_count": 11,
   "metadata": {},
   "outputs": [
    {
     "name": "stdout",
     "output_type": "stream",
     "text": [
      "Advertencia de asteroide\n",
      "Peligro de daño a la tierra\n"
     ]
    }
   ],
   "source": [
    "# Velocidad del asteroide\n",
    "velAst = 32\n",
    "# Tamaño del asteroide\n",
    "tamAst = 56\n",
    "\n",
    "if velAst > 25:\n",
    "    print('Advertencia de asteroide')\n",
    "    if tamAst > 25 and tamAst < 1000:\n",
    "        print('Peligro de daño a la tierra')\n",
    "    elif tamAst < 25:\n",
    "        print('El asteroide se quemara al entrar a la atmósfera...')\n",
    "elif tamAst > 25 and tamAst < 1000:\n",
    "    print('Posible peligro')\n",
    "    if velAst >= 20:\n",
    "        print('Voltea al cielo...')\n",
    "else: \n",
    "    print('No hay peligro...')"
   ]
  }
 ],
 "metadata": {
  "interpreter": {
   "hash": "6dd261a6119dd15213834daadbcd51cc658e52f6776ca72d56aecd4cc56cc9af"
  },
  "kernelspec": {
   "display_name": "Python 3.10.2 64-bit",
   "language": "python",
   "name": "python3"
  },
  "language_info": {
   "codemirror_mode": {
    "name": "ipython",
    "version": 3
   },
   "file_extension": ".py",
   "mimetype": "text/x-python",
   "name": "python",
   "nbconvert_exporter": "python",
   "pygments_lexer": "ipython3",
   "version": "3.10.2"
  },
  "orig_nbformat": 4
 },
 "nbformat": 4,
 "nbformat_minor": 2
}
